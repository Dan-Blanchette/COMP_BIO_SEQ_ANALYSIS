{
 "cells": [
  {
   "cell_type": "code",
   "execution_count": null,
   "metadata": {
    "id": "hzdu7Bd_KOcF"
   },
   "outputs": [],
   "source": []
  },
  {
   "cell_type": "code",
   "execution_count": 1,
   "metadata": {
    "id": "E3_JjMFQSJe3"
   },
   "outputs": [],
   "source": [
    "import random\n",
    "import copy"
   ]
  },
  {
   "cell_type": "code",
   "execution_count": 2,
   "metadata": {
    "id": "udxny0kOTn19"
   },
   "outputs": [],
   "source": [
    "from IPython.display import HTML\n",
    "shell = get_ipython()\n",
    "\n",
    "def adjust_font_size():\n",
    "    display(HTML('''<style>\n",
    "        body{\n",
    "            font-size: 32px;\n",
    "        }\n",
    "    '''))\n",
    "\n",
    "if adjust_font_size not in shell.events.callbacks['pre_execute']:\n",
    "    shell.events.register('pre_execute', adjust_font_size)"
   ]
  },
  {
   "cell_type": "code",
   "execution_count": 3,
   "metadata": {
    "colab": {
     "base_uri": "https://localhost:8080/",
     "height": 17
    },
    "id": "jmYTf3YBKSNV",
    "outputId": "a627959f-a38e-4cd9-8c27-edd418c7662f"
   },
   "outputs": [
    {
     "data": {
      "text/html": [
       "<style>\n",
       "        body{\n",
       "            font-size: 32px;\n",
       "        }\n",
       "    "
      ],
      "text/plain": [
       "<IPython.core.display.HTML object>"
      ]
     },
     "metadata": {},
     "output_type": "display_data"
    }
   ],
   "source": [
    "genomesize = 10\n",
    "DNAcharacters = 'TGCA'\n",
    "class individual:\n",
    "    def __init__(self): # constructor - constructs a new individual object\n",
    "        #print(\"Creating a new individual\")\n",
    "        self.fitness = 0\n",
    "        self.genome = []\n",
    "        for i in range(0,genomesize):\n",
    "            self.genome.append(random.choice(DNAcharacters))\n",
    "        self.calcFitness()\n",
    "\n",
    "    def print(self):\n",
    "        for c in self.genome:\n",
    "            print(c,end = \"\")\n",
    "        print(\"  fitness:\" + str(self.fitness))\n",
    "\n",
    "    def calcFitness(self):   # for now: number of T's\n",
    "        self.fitness = 0\n",
    "        for c in self.genome:\n",
    "            if c == 'T':\n",
    "                self.fitness += 1\n",
    "    \n",
    "    def mutation(self):\n",
    "        for i in range(0,genomesize):\n",
    "            if(random.uniform(0,100) < 20):\n",
    "                self.genome[i] = random.choice(DNAcharacters)\n",
    "        self.calcFitness()\n",
    "\n",
    "    def copy(self,source):\n",
    "        self.fitness = source.fitness\n",
    "        for i in range(0,genomesize):\n",
    "            self.genome[i] = source.genome[i]\n",
    "\n",
    "   # def __str__(self):\n",
    "    #    output = \"hi \"\n",
    "     #   for c in self.genome:\n",
    "      #      output = output + c\n",
    "      #  output += \" \"\n",
    "      #  output += \"fitness: \"\n",
    "      #  output += str(self.fitness)\n",
    "      #  return output\n",
    "\n",
    "popsize = 4\n",
    "class population:\n",
    "    def __init__(self): # constructor - constructs a new pop object\n",
    "        #print(\"Creating a new population\")\n",
    "        self.avg_fitness = 0\n",
    "        self.the_pop = []\n",
    "        for i in range(0,popsize):\n",
    "            self.the_pop.append(individual())\n",
    "\n",
    "    def calcstats(self):\n",
    "        self.avg_fitness = 0\n",
    "        for i in self.the_pop:\n",
    "            self.avg_fitness += i.fitness\n",
    "        self.avg_fitness /= popsize\n",
    "\n",
    "    def generational(self):\n",
    "        tempPop = population()\n",
    "        for i in range(0,popsize):\n",
    "            parent = self.tournament() # select, returns an index\n",
    "            tempPop.the_pop[i].copy(self.the_pop[parent])\n",
    "            tempPop.the_pop[i].mutation()\n",
    "            #tempPop.the_pop[i].calcFitness(), already done in mutation\n",
    "        #mutate them?\n",
    "        #when new/temp population is full, copy new/temp pop back into the_pop\n",
    "        for i in range(0,popsize):\n",
    "            self.the_pop[i].copy(tempPop.the_pop[i])\n",
    "        self.calcstats()\n",
    "\n",
    "    def tournament(self):\n",
    "        tourn_size = 3\n",
    "        best_so_far = random.randint(0,popsize-1)\n",
    "        best_fitness = self.the_pop[best_so_far].fitness\n",
    "        #print(best_so_far)\n",
    "        for i in range(0,tourn_size - 1):\n",
    "            current = random.randint(0,popsize-1)\n",
    "            #print(current)\n",
    "            current_fit = self.the_pop[current].fitness\n",
    "            if(current_fit > best_fitness):\n",
    "                best_so_far = current\n",
    "                best_fitness = current_fit\n",
    "        return best_so_far\n",
    "\n",
    "\n",
    "\n"
   ]
  },
  {
   "cell_type": "code",
   "execution_count": 4,
   "metadata": {
    "colab": {
     "base_uri": "https://localhost:8080/",
     "height": 17
    },
    "id": "eoPqP7J2K-FC",
    "outputId": "20c96f6d-bfec-48b7-b189-9990a3e54d0c"
   },
   "outputs": [
    {
     "data": {
      "text/html": [
       "<style>\n",
       "        body{\n",
       "            font-size: 32px;\n",
       "        }\n",
       "    "
      ],
      "text/plain": [
       "<IPython.core.display.HTML object>"
      ]
     },
     "metadata": {},
     "output_type": "display_data"
    }
   ],
   "source": [
    "p = population()\n"
   ]
  },
  {
   "cell_type": "code",
   "execution_count": null,
   "metadata": {
    "colab": {
     "base_uri": "https://localhost:8080/",
     "height": 215
    },
    "id": "4v4gzonJ8s1s",
    "outputId": "f3a7f741-fdd6-4ab6-e5b3-ebf4132c828c"
   },
   "outputs": [
    {
     "data": {
      "text/html": [
       "<style>\n",
       "        body{\n",
       "            font-size: 32px;\n",
       "        }\n",
       "    "
      ],
      "text/plain": [
       "<IPython.core.display.HTML object>"
      ]
     },
     "metadata": {},
     "output_type": "display_data"
    },
    {
     "name": "stdout",
     "output_type": "stream",
     "text": [
      "CTGCATGTTA  fitness:4\n",
      "AAGTACCTGA  fitness:2\n",
      "TAAAATGTAA  fitness:3\n",
      "ACGATTCTGG  fitness:3\n",
      "3.0\n"
     ]
    }
   ],
   "source": [
    "for i in range(0,popsize):\n",
    "    p.the_pop[i].print()\n",
    "p.calcstats()\n",
    "print(p.avg_fitness)"
   ]
  },
  {
   "cell_type": "code",
   "execution_count": null,
   "metadata": {
    "colab": {
     "base_uri": "https://localhost:8080/",
     "height": 215
    },
    "id": "TA9B9K9jOSJd",
    "outputId": "6dbeb684-2d3b-4677-e91a-0da9011916e7"
   },
   "outputs": [
    {
     "data": {
      "text/html": [
       "<style>\n",
       "        body{\n",
       "            font-size: 32px;\n",
       "        }\n",
       "    "
      ],
      "text/plain": [
       "<IPython.core.display.HTML object>"
      ]
     },
     "metadata": {},
     "output_type": "display_data"
    },
    {
     "name": "stdout",
     "output_type": "stream",
     "text": [
      "Creating a new population\n",
      "Creating a new individual\n",
      "Creating a new individual\n",
      "Creating a new individual\n",
      "Creating a new individual\n"
     ]
    }
   ],
   "source": [
    "p.generational()"
   ]
  },
  {
   "cell_type": "code",
   "execution_count": null,
   "metadata": {
    "colab": {
     "base_uri": "https://localhost:8080/",
     "height": 215
    },
    "id": "UsIFMuy2Vqll",
    "outputId": "f32fc10b-738e-462a-893d-79822c5169a4"
   },
   "outputs": [
    {
     "data": {
      "text/html": [
       "<style>\n",
       "        body{\n",
       "            font-size: 32px;\n",
       "        }\n",
       "    "
      ],
      "text/plain": [
       "<IPython.core.display.HTML object>"
      ]
     },
     "metadata": {},
     "output_type": "display_data"
    },
    {
     "name": "stdout",
     "output_type": "stream",
     "text": [
      "CTGCATGTTT  fitness:5\n",
      "CCGCATGTTA  fitness:3\n",
      "ATGCATGTTA  fitness:4\n",
      "AAGATTCGGG  fitness:2\n",
      "3.5\n"
     ]
    }
   ],
   "source": [
    "for i in range(0,popsize):\n",
    "    p.the_pop[i].print()\n",
    "p.calcstats()\n",
    "print(p.avg_fitness)"
   ]
  },
  {
   "cell_type": "code",
   "execution_count": 6,
   "metadata": {
    "colab": {
     "base_uri": "https://localhost:8080/",
     "height": 1000
    },
    "id": "YPRUq4KvXWix",
    "outputId": "8fd83079-f0c3-4142-e0c8-1577e7da67d1"
   },
   "outputs": [
    {
     "data": {
      "text/html": [
       "<style>\n",
       "        body{\n",
       "            font-size: 32px;\n",
       "        }\n",
       "    "
      ],
      "text/plain": [
       "<IPython.core.display.HTML object>"
      ]
     },
     "metadata": {},
     "output_type": "display_data"
    },
    {
     "name": "stdout",
     "output_type": "stream",
     "text": [
      "AGGCGTAGAC  fitness:1\n",
      "ACACTCGTAG  fitness:2\n",
      "ACGCATCGGT  fitness:2\n",
      "GCGACGTTTC  fitness:3\n",
      "2.0\n",
      "2.75\n",
      "3.25\n",
      "3.25\n",
      "3.5\n",
      "4.75\n",
      "5.0\n",
      "4.25\n",
      "4.25\n",
      "5.0\n",
      "5.75\n",
      "4.5\n",
      "4.25\n",
      "5.25\n",
      "4.75\n",
      "4.0\n",
      "4.75\n",
      "4.5\n",
      "4.75\n",
      "4.75\n",
      "4.25\n",
      "5.0\n",
      "5.0\n",
      "5.25\n",
      "5.0\n",
      "5.5\n",
      "5.0\n",
      "5.0\n",
      "5.25\n",
      "5.25\n",
      "4.25\n",
      "4.0\n",
      "3.5\n",
      "3.75\n",
      "4.25\n",
      "5.25\n",
      "4.5\n",
      "3.5\n",
      "5.25\n",
      "4.5\n",
      "3.75\n",
      "3.75\n",
      "4.5\n",
      "4.75\n",
      "4.5\n",
      "4.25\n",
      "5.5\n",
      "5.0\n",
      "5.75\n",
      "5.75\n",
      "6.25\n",
      "7.0\n",
      "5.25\n",
      "5.5\n",
      "5.25\n",
      "5.75\n",
      "6.25\n",
      "6.0\n",
      "6.0\n",
      "5.25\n",
      "5.5\n",
      "5.5\n",
      "5.0\n",
      "5.25\n",
      "5.0\n",
      "5.0\n",
      "5.75\n",
      "6.5\n",
      "6.25\n",
      "6.5\n",
      "6.0\n",
      "4.5\n",
      "4.25\n",
      "6.0\n",
      "5.5\n",
      "6.0\n",
      "5.75\n",
      "6.75\n",
      "6.25\n",
      "6.5\n",
      "6.75\n",
      "7.0\n",
      "6.75\n",
      "7.5\n",
      "7.25\n",
      "8.0\n",
      "7.75\n",
      "7.25\n",
      "7.5\n",
      "7.25\n",
      "7.0\n",
      "6.0\n",
      "6.0\n",
      "5.75\n",
      "5.75\n",
      "5.75\n",
      "6.0\n",
      "6.5\n",
      "6.0\n",
      "5.75\n",
      "6.25\n",
      "ATTAGTTGTC  fitness:5\n",
      "TTTTGGTCTG  fitness:6\n",
      "TTTAGTTCTT  fitness:7\n",
      "GTTTTATTTA  fitness:7\n",
      "6.25\n"
     ]
    }
   ],
   "source": [
    "p2 = population()\n",
    "for i in range(0,popsize):\n",
    "    p2.the_pop[i].print()\n",
    "p2.calcstats()\n",
    "print(p2.avg_fitness)\n",
    "for i in range (0,100):\n",
    "    p2.generational()\n",
    "    #print(p2.avg_fitness)\n",
    "for i in range(0,popsize):\n",
    "    p2.the_pop[i].print()\n",
    "p2.calcstats()\n",
    "print(p2.avg_fitness)"
   ]
  }
 ],
 "metadata": {
  "colab": {
   "provenance": []
  },
  "kernelspec": {
   "display_name": "Python 3 (ipykernel)",
   "language": "python",
   "name": "python3"
  },
  "language_info": {
   "codemirror_mode": {
    "name": "ipython",
    "version": 3
   },
   "file_extension": ".py",
   "mimetype": "text/x-python",
   "name": "python",
   "nbconvert_exporter": "python",
   "pygments_lexer": "ipython3",
   "version": "3.9.13"
  }
 },
 "nbformat": 4,
 "nbformat_minor": 1
}
